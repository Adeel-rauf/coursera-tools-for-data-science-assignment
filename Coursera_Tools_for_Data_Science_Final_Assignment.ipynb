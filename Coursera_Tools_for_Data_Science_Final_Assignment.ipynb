{
 "cells": [
  {
   "cell_type": "markdown",
   "id": "ec662eec",
   "metadata": {},
   "source": [
    "# Tools for Data Science – Final Assignment\n",
    "**Course:** IBM / Coursera — Open Source Tools for Data Science  \n",
    "**Notebook Type:** Jupyter Notebook (JupyterLite/JupyterLab compatible)  \n"
   ]
  },
  {
   "cell_type": "markdown",
   "id": "f4048936",
   "metadata": {},
   "source": [
    "## Introduction\n",
    "This notebook demonstrates basic Markdown formatting and simple Python code cells, following the grading rubric: title, introduction, lists of data science **languages** and **libraries**, a table of **data science tools**, and two code exercises for **arithmetic** and **unit conversion**.\n"
   ]
  },
  {
   "cell_type": "markdown",
   "id": "2d541969",
   "metadata": {},
   "source": [
    "## Data Science Languages\n",
    "1. Python  \n",
    "2. R  \n",
    "3. SQL  \n",
    "4. Julia  \n",
    "5. Scala  \n"
   ]
  },
  {
   "cell_type": "markdown",
   "id": "040b28a6",
   "metadata": {},
   "source": [
    "## Popular Data Science Libraries\n",
    "1. **NumPy** – fast n‑dimensional arrays and numerical routines  \n",
    "2. **Pandas** – tabular data structures and data wrangling  \n",
    "3. **Matplotlib** – plotting and visualization  \n",
    "4. **Seaborn** – statistical visualizations built on Matplotlib  \n",
    "5. **Scikit‑learn** – machine learning algorithms and utilities  \n",
    "6. **TensorFlow / PyTorch** – deep learning frameworks  \n"
   ]
  },
  {
   "cell_type": "markdown",
   "id": "baf04807",
   "metadata": {},
   "source": [
    "## Data Science Tools\n",
    "| Category | Tool | Typical Use |\n",
    "|---|---|---|\n",
    "| Notebook | Jupyter Notebook / JupyterLab | Interactive coding & reporting |\n",
    "| IDE | RStudio | R development, visualization, reports |\n",
    "| Big Data | Apache Spark | Distributed data processing & ML |\n",
    "| Workflow | Apache Airflow | Pipelines & scheduling |\n",
    "| BI / Dashboards | Power BI, Tableau | Interactive dashboards |\n"
   ]
  },
  {
   "cell_type": "markdown",
   "id": "02bdb117",
   "metadata": {},
   "source": [
    "## Evaluating Basic Arithmetic Expressions\n",
    "The next cell uses Python to **multiply** and **add** integers. This is a simple example of using a code cell to compute a result and display the output.\n"
   ]
  },
  {
   "cell_type": "code",
   "execution_count": 1,
   "id": "34efa0ac",
   "metadata": {},
   "outputs": [
    {
     "name": "stdout",
     "output_type": "stream",
     "text": [
      "a = 24 | b = 13\n",
      "Product (a*b) = 312\n",
      "Sum (a+b) = 37\n"
     ]
    }
   ],
   "source": [
    "# Multiply and add integers\n",
    "a = 24\n",
    "b = 13\n",
    "product = a * b\n",
    "sum_ = a + b\n",
    "\n",
    "print(\"a =\", a, \"| b =\", b)\n",
    "print(\"Product (a*b) =\", product)\n",
    "print(\"Sum (a+b) =\", sum_)"
   ]
  },
  {
   "cell_type": "markdown",
   "id": "8101f37a",
   "metadata": {},
   "source": [
    "## Converting Minutes to Hours\n",
    "The following cell converts a given number of **minutes** into **hours** (as a float) and **hours:minutes** (as a pair)."
   ]
  },
  {
   "cell_type": "code",
   "execution_count": 2,
   "id": "0609095d",
   "metadata": {},
   "outputs": [
    {
     "name": "stdout",
     "output_type": "stream",
     "text": [
      "Minutes: 190\n",
      "Hours (float): 3.1666666666666665\n",
      "Hours and minutes: 3 hour(s) and 10 minute(s)\n"
     ]
    }
   ],
   "source": [
    "# Convert minutes to hours\n",
    "minutes = 190  # you can change this value for testing\n",
    "hours_float = minutes / 60\n",
    "hours = minutes // 60\n",
    "remaining_minutes = minutes % 60\n",
    "\n",
    "print(f\"Minutes: {minutes}\")\n",
    "print(f\"Hours (float): {hours_float}\")\n",
    "print(f\"Hours and minutes: {hours} hour(s) and {remaining_minutes} minute(s)\")"
   ]
  },
  {
   "cell_type": "markdown",
   "id": "605d439c",
   "metadata": {},
   "source": [
    "## Objectives\n",
    "- Demonstrate use of Markdown cells: title, lists, and tables  \n",
    "- Run simple Python code cells and show outputs  \n",
    "- Practice converting problems into reproducible notebook steps  \n",
    "- Prepare screenshots for peer review submission  \n"
   ]
  },
  {
   "cell_type": "markdown",
   "id": "b1b691df",
   "metadata": {},
   "source": [
    "## Author\n",
    "**Name:** Muhammad Adeel Rauf  \n",
    "**Date:** 2025-09-10  \n"
   ]
  }
 ],
 "metadata": {
  "kernelspec": {
   "display_name": "Python 3 (ipykernel)",
   "language": "python",
   "name": "python3"
  },
  "language_info": {
   "codemirror_mode": {
    "name": "ipython",
    "version": 3
   },
   "file_extension": ".py",
   "mimetype": "text/x-python",
   "name": "python",
   "nbconvert_exporter": "python",
   "pygments_lexer": "ipython3",
   "version": "3.12.7"
  }
 },
 "nbformat": 4,
 "nbformat_minor": 5
}
